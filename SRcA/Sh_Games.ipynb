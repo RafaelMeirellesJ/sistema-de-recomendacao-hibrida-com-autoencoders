{
 "cells": [
  {
   "cell_type": "code",
   "execution_count": null,
   "id": "547f33c9",
   "metadata": {},
   "outputs": [],
   "source": [
    "# Importar a biblioteca pandas para manipulação de dados\n",
    "import pandas as pd"
   ]
  },
  {
   "cell_type": "code",
   "execution_count": null,
   "id": "eeaf160d",
   "metadata": {},
   "outputs": [
    {
     "data": {
      "application/vnd.microsoft.datawrangler.viewer.v0+json": {
       "columns": [
        {
         "name": "index",
         "rawType": "int64",
         "type": "integer"
        },
        {
         "name": "user_id",
         "rawType": "int64",
         "type": "integer"
        },
        {
         "name": "content_id",
         "rawType": "int64",
         "type": "integer"
        },
        {
         "name": "game",
         "rawType": "object",
         "type": "string"
        },
        {
         "name": "hours",
         "rawType": "float64",
         "type": "float"
        },
        {
         "name": "view",
         "rawType": "int64",
         "type": "integer"
        }
       ],
       "conversionMethod": "pd.DataFrame",
       "ref": "ce905415-d2a6-4f01-a5c1-afa82c3ef96e",
       "rows": [
        [
         "0",
         "0",
         "226",
         "Alien Swarm",
         "5.9",
         "1"
        ],
        [
         "1",
         "0",
         "846",
         "Cities Skylines",
         "145.0",
         "1"
        ],
        [
         "2",
         "0",
         "972",
         "Counter-Strike",
         "1.0",
         "1"
        ],
        [
         "3",
         "0",
         "978",
         "Counter-Strike Source",
         "1.0",
         "1"
        ],
        [
         "4",
         "0",
         "1125",
         "Day of Defeat",
         "1.0",
         "1"
        ],
        [
         "5",
         "0",
         "1173",
         "Deathmatch Classic",
         "1.0",
         "1"
        ],
        [
         "6",
         "0",
         "1242",
         "Deus Ex Human Revolution",
         "63.0",
         "1"
        ],
        [
         "7",
         "0",
         "1328",
         "Dota 2",
         "1.2",
         "1"
        ],
        [
         "8",
         "0",
         "2054",
         "Half-Life",
         "1.0",
         "1"
        ],
        [
         "9",
         "0",
         "2055",
         "Half-Life 2",
         "1.0",
         "1"
        ],
        [
         "10",
         "0",
         "2056",
         "Half-Life 2 Deathmatch",
         "1.0",
         "1"
        ],
        [
         "11",
         "0",
         "2057",
         "Half-Life 2 Episode One",
         "1.0",
         "1"
        ],
        [
         "12",
         "0",
         "2058",
         "Half-Life 2 Episode Two",
         "1.0",
         "1"
        ],
        [
         "13",
         "0",
         "2059",
         "Half-Life 2 Lost Coast",
         "1.0",
         "1"
        ],
        [
         "14",
         "0",
         "2061",
         "Half-Life Blue Shift",
         "1.0",
         "1"
        ],
        [
         "15",
         "0",
         "2063",
         "Half-Life Opposing Force",
         "1.0",
         "1"
        ],
        [
         "16",
         "0",
         "3196",
         "Portal",
         "1.0",
         "1"
        ],
        [
         "17",
         "0",
         "3197",
         "Portal 2",
         "14.6",
         "1"
        ],
        [
         "18",
         "0",
         "3502",
         "Ricochet",
         "1.0",
         "1"
        ],
        [
         "19",
         "0",
         "4221",
         "Team Fortress 2",
         "1.8",
         "1"
        ],
        [
         "20",
         "0",
         "4222",
         "Team Fortress Classic",
         "1.0",
         "1"
        ],
        [
         "21",
         "1",
         "173",
         "Age of Empires II HD Edition",
         "14.1",
         "1"
        ],
        [
         "22",
         "1",
         "226",
         "Alien Swarm",
         "1.8",
         "1"
        ],
        [
         "23",
         "1",
         "320",
         "Arma 2",
         "1.0",
         "1"
        ],
        [
         "24",
         "1",
         "324",
         "Arma 2 Operation Arrowhead",
         "1.0",
         "1"
        ],
        [
         "25",
         "1",
         "325",
         "Arma 2 Operation Arrowhead Beta (Obsolete)",
         "1.0",
         "1"
        ],
        [
         "26",
         "1",
         "440",
         "Banished",
         "25.0",
         "1"
        ],
        [
         "27",
         "1",
         "723",
         "Call of Duty Black Ops",
         "23.0",
         "1"
        ],
        [
         "28",
         "1",
         "724",
         "Call of Duty Black Ops - Multiplayer",
         "13.5",
         "1"
        ],
        [
         "29",
         "1",
         "733",
         "Call of Duty Modern Warfare 2",
         "66.0",
         "1"
        ],
        [
         "30",
         "1",
         "734",
         "Call of Duty Modern Warfare 2 - Multiplayer",
         "166.0",
         "1"
        ],
        [
         "31",
         "1",
         "737",
         "Call of Duty Modern Warfare 3",
         "16.9",
         "1"
        ],
        [
         "32",
         "1",
         "738",
         "Call of Duty Modern Warfare 3 - Multiplayer",
         "10.7",
         "1"
        ],
        [
         "33",
         "1",
         "740",
         "Call of Duty World at War",
         "272.0",
         "1"
        ],
        [
         "34",
         "1",
         "972",
         "Counter-Strike",
         "366.0",
         "1"
        ],
        [
         "35",
         "1",
         "975",
         "Counter-Strike Global Offensive",
         "4.5",
         "1"
        ],
        [
         "36",
         "1",
         "978",
         "Counter-Strike Source",
         "26.0",
         "1"
        ],
        [
         "37",
         "1",
         "1125",
         "Day of Defeat",
         "1.0",
         "1"
        ],
        [
         "38",
         "1",
         "1173",
         "Deathmatch Classic",
         "1.0",
         "1"
        ],
        [
         "39",
         "1",
         "2054",
         "Half-Life",
         "2.2",
         "1"
        ],
        [
         "40",
         "1",
         "2061",
         "Half-Life Blue Shift",
         "1.0",
         "1"
        ],
        [
         "41",
         "1",
         "2063",
         "Half-Life Opposing Force",
         "1.0",
         "1"
        ],
        [
         "42",
         "1",
         "3197",
         "Portal 2",
         "16.0",
         "1"
        ],
        [
         "43",
         "1",
         "3502",
         "Ricochet",
         "1.0",
         "1"
        ],
        [
         "44",
         "1",
         "3514",
         "Rise of Nations Extended Edition",
         "6.7",
         "1"
        ],
        [
         "45",
         "1",
         "4222",
         "Team Fortress Classic",
         "1.0",
         "1"
        ],
        [
         "46",
         "1",
         "4455",
         "The Stanley Parable",
         "2.8",
         "1"
        ],
        [
         "47",
         "1",
         "4502",
         "Thief",
         "1.0",
         "1"
        ],
        [
         "48",
         "1",
         "4503",
         "Thief - Ghost",
         "1.0",
         "1"
        ],
        [
         "49",
         "1",
         "4504",
         "Thief - Opportunist",
         "1.0",
         "1"
        ]
       ],
       "shape": {
        "columns": 5,
        "rows": 115139
       }
      },
      "text/html": [
       "<div>\n",
       "<style scoped>\n",
       "    .dataframe tbody tr th:only-of-type {\n",
       "        vertical-align: middle;\n",
       "    }\n",
       "\n",
       "    .dataframe tbody tr th {\n",
       "        vertical-align: top;\n",
       "    }\n",
       "\n",
       "    .dataframe thead th {\n",
       "        text-align: right;\n",
       "    }\n",
       "</style>\n",
       "<table border=\"1\" class=\"dataframe\">\n",
       "  <thead>\n",
       "    <tr style=\"text-align: right;\">\n",
       "      <th></th>\n",
       "      <th>user_id</th>\n",
       "      <th>content_id</th>\n",
       "      <th>game</th>\n",
       "      <th>hours</th>\n",
       "      <th>view</th>\n",
       "    </tr>\n",
       "  </thead>\n",
       "  <tbody>\n",
       "    <tr>\n",
       "      <th>0</th>\n",
       "      <td>0</td>\n",
       "      <td>226</td>\n",
       "      <td>Alien Swarm</td>\n",
       "      <td>5.9</td>\n",
       "      <td>1</td>\n",
       "    </tr>\n",
       "    <tr>\n",
       "      <th>1</th>\n",
       "      <td>0</td>\n",
       "      <td>846</td>\n",
       "      <td>Cities Skylines</td>\n",
       "      <td>145.0</td>\n",
       "      <td>1</td>\n",
       "    </tr>\n",
       "    <tr>\n",
       "      <th>2</th>\n",
       "      <td>0</td>\n",
       "      <td>972</td>\n",
       "      <td>Counter-Strike</td>\n",
       "      <td>1.0</td>\n",
       "      <td>1</td>\n",
       "    </tr>\n",
       "    <tr>\n",
       "      <th>3</th>\n",
       "      <td>0</td>\n",
       "      <td>978</td>\n",
       "      <td>Counter-Strike Source</td>\n",
       "      <td>1.0</td>\n",
       "      <td>1</td>\n",
       "    </tr>\n",
       "    <tr>\n",
       "      <th>4</th>\n",
       "      <td>0</td>\n",
       "      <td>1125</td>\n",
       "      <td>Day of Defeat</td>\n",
       "      <td>1.0</td>\n",
       "      <td>1</td>\n",
       "    </tr>\n",
       "    <tr>\n",
       "      <th>...</th>\n",
       "      <td>...</td>\n",
       "      <td>...</td>\n",
       "      <td>...</td>\n",
       "      <td>...</td>\n",
       "      <td>...</td>\n",
       "    </tr>\n",
       "    <tr>\n",
       "      <th>115134</th>\n",
       "      <td>3756</td>\n",
       "      <td>108</td>\n",
       "      <td>AdVenture Capitalist</td>\n",
       "      <td>1.7</td>\n",
       "      <td>1</td>\n",
       "    </tr>\n",
       "    <tr>\n",
       "      <th>115135</th>\n",
       "      <td>3756</td>\n",
       "      <td>2733</td>\n",
       "      <td>Mitos.is The Game</td>\n",
       "      <td>3.2</td>\n",
       "      <td>1</td>\n",
       "    </tr>\n",
       "    <tr>\n",
       "      <th>115136</th>\n",
       "      <td>3756</td>\n",
       "      <td>4221</td>\n",
       "      <td>Team Fortress 2</td>\n",
       "      <td>3.2</td>\n",
       "      <td>1</td>\n",
       "    </tr>\n",
       "    <tr>\n",
       "      <th>115137</th>\n",
       "      <td>3756</td>\n",
       "      <td>4660</td>\n",
       "      <td>Transformice</td>\n",
       "      <td>1.3</td>\n",
       "      <td>1</td>\n",
       "    </tr>\n",
       "    <tr>\n",
       "      <th>115138</th>\n",
       "      <td>3756</td>\n",
       "      <td>4750</td>\n",
       "      <td>Unturned</td>\n",
       "      <td>14.0</td>\n",
       "      <td>1</td>\n",
       "    </tr>\n",
       "  </tbody>\n",
       "</table>\n",
       "<p>115139 rows × 5 columns</p>\n",
       "</div>"
      ],
      "text/plain": [
       "        user_id  content_id                   game  hours  view\n",
       "0             0         226            Alien Swarm    5.9     1\n",
       "1             0         846        Cities Skylines  145.0     1\n",
       "2             0         972         Counter-Strike    1.0     1\n",
       "3             0         978  Counter-Strike Source    1.0     1\n",
       "4             0        1125          Day of Defeat    1.0     1\n",
       "...         ...         ...                    ...    ...   ...\n",
       "115134     3756         108   AdVenture Capitalist    1.7     1\n",
       "115135     3756        2733      Mitos.is The Game    3.2     1\n",
       "115136     3756        4221        Team Fortress 2    3.2     1\n",
       "115137     3756        4660           Transformice    1.3     1\n",
       "115138     3756        4750               Unturned   14.0     1\n",
       "\n",
       "[115139 rows x 5 columns]"
      ]
     },
     "execution_count": 2,
     "metadata": {},
     "output_type": "execute_result"
    }
   ],
   "source": [
    "# Carregar o conjunto de dados de interações e criar um DataFrame\n",
    "data = pd.read_csv('interactions_full_df.csv')\n",
    "df = pd.DataFrame(data)\n",
    "# Exibir o DataFrame para inspeção\n",
    "df"
   ]
  },
  {
   "cell_type": "code",
   "execution_count": null,
   "id": "20979945",
   "metadata": {},
   "outputs": [],
   "source": [
    "# Remover a coluna 'view' do DataFrame, pois não será utilizada na análise\n",
    "df.drop(columns=['view'], inplace=True)"
   ]
  },
  {
   "cell_type": "code",
   "execution_count": null,
   "id": "fb073f87",
   "metadata": {},
   "outputs": [
    {
     "name": "stdout",
     "output_type": "stream",
     "text": [
      "<class 'pandas.core.frame.DataFrame'>\n",
      "RangeIndex: 115139 entries, 0 to 115138\n",
      "Data columns (total 4 columns):\n",
      " #   Column      Non-Null Count   Dtype  \n",
      "---  ------      --------------   -----  \n",
      " 0   user_id     115139 non-null  int64  \n",
      " 1   content_id  115139 non-null  int64  \n",
      " 2   game        115139 non-null  object \n",
      " 3   hours       115139 non-null  float64\n",
      "dtypes: float64(1), int64(2), object(1)\n",
      "memory usage: 3.5+ MB\n"
     ]
    }
   ],
   "source": [
    "# Exibir informações sobre o DataFrame, como tipos de dados e valores ausentes\n",
    "df.info()"
   ]
  },
  {
   "cell_type": "code",
   "execution_count": null,
   "id": "fb0f2f9e",
   "metadata": {},
   "outputs": [
    {
     "data": {
      "image/png": "[encoded data removed]",
      "text/plain": [
       "<Figure size 1200x600 with 2 Axes>"
      ]
     },
     "metadata": {},
     "output_type": "display_data"
    }
   ],
   "source": [
    "# Importar bibliotecas para visualização e transformação de dados\n",
    "import matplotlib.pyplot as plt\n",
    "from scipy.stats import yeojohnson\n",
    "\n",
    "# Aplicar a transformação Yeo-Johnson na coluna 'hours'\n",
    "x = df['hours']\n",
    "df['hours_yj'], lmbda = yeojohnson(x)\n",
    "\n",
    "# Visualizar os dados antes e depois da transformação\n",
    "plt.figure(figsize=(12, 6))\n",
    "\n",
    "plt.subplot(1, 2, 1)\n",
    "plt.hist(x, bins=20, color='lightblue', edgecolor='black', alpha=0.7)\n",
    "plt.title('Histograma com dados originais')\n",
    "plt.xlabel('Horas')\n",
    "plt.ylabel('Frequência')\n",
    "\n",
    "plt.subplot(1, 2, 2)\n",
    "plt.hist(df['hours_yj'], bins=20, color='lightgreen', edgecolor='black', alpha=0.7)\n",
    "plt.title('Histograma com dados transformados')\n",
    "plt.xlabel('Horas')\n",
    "plt.ylabel('Frequência')\n",
    "\n",
    "plt.show()"
   ]
  },
  {
   "cell_type": "code",
   "execution_count": null,
   "id": "43f4fe63",
   "metadata": {},
   "outputs": [],
   "source": [
    "# Remover a coluna original 'hours', pois já foi transformada\n",
    "df.drop(columns=['hours'], inplace=True)\n"
   ]
  },
  {
   "cell_type": "code",
   "execution_count": null,
   "id": "600f51af",
   "metadata": {},
   "outputs": [],
   "source": [
    "# Criar a matriz usuário-item com os dados transformados\n",
    "from sklearn.preprocessing import MaxAbsScaler\n",
    "from scipy.sparse import csr_matrix \n",
    "\n",
    "user_item_matrix = df.pivot(index='user_id', columns='content_id', values='hours_yj').fillna(0)\n",
    "\n",
    "# Escalar os dados para normalizar os valores\n",
    "scaler = MaxAbsScaler()\n",
    "user_item_matrix_scaled = scaler.fit_transform(user_item_matrix)\n",
    "\n",
    "# Converter a matriz escalada para formato esparso\n",
    "sparse_matrix = csr_matrix(user_item_matrix_scaled)\n",
    "\n",
    "# Converter a matriz esparsa de volta para formato denso para uso posterior\n",
    "dense_matrix = sparse_matrix.toarray()\n"
   ]
  },
  {
   "cell_type": "code",
   "execution_count": null,
   "id": "faeebe46",
   "metadata": {},
   "outputs": [
    {
     "data": {
      "text/plain": [
       "((3005, 5113), (752, 5113))"
      ]
     },
     "execution_count": 8,
     "metadata": {},
     "output_type": "execute_result"
    }
   ],
   "source": [
    "# Dividir os dados em conjuntos de treino e validação\n",
    "from sklearn.model_selection import train_test_split\n",
    "\n",
    "X_train, x_val = train_test_split(dense_matrix, test_size=0.2, random_state=42)\n",
    "# Exibir as formas dos conjuntos de dados\n",
    "X_train.shape, x_val.shape"
   ]
  },
  {
   "cell_type": "code",
   "execution_count": null,
   "id": "1460d21e",
   "metadata": {},
   "outputs": [],
   "source": [
    "# Definir as dimensões de entrada e codificação para o autoencoder\n",
    "input_dim = X_train.shape[1]\n",
    "encoding_dim = 64"
   ]
  },
  {
   "cell_type": "code",
   "execution_count": null,
   "id": "4c68a6af",
   "metadata": {},
   "outputs": [
    {
     "name": "stdout",
     "output_type": "stream",
     "text": [
      "\u001b[1m118/118\u001b[0m \u001b[32m━━━━━━━━━━━━━━━━━━━━\u001b[0m\u001b[37m\u001b[0m \u001b[1m0s\u001b[0m 1ms/step\n",
      "Embeddings extraídos. Forma: (3757, 5113)\n"
     ]
    },
    {
     "data": {
      "text/html": [
       "<pre style=\"white-space:pre;overflow-x:auto;line-height:normal;font-family:Menlo,'DejaVu Sans Mono',consolas,'Courier New',monospace\"><span style=\"font-weight: bold\">Model: \"functional_5\"</span>\n",
       "</pre>\n"
      ],
      "text/plain": [
       "\u001b[1mModel: \"functional_5\"\u001b[0m\n"
      ]
     },
     "metadata": {},
     "output_type": "display_data"
    },
    {
     "data": {
      "text/html": [
       "<pre style=\"white-space:pre;overflow-x:auto;line-height:normal;font-family:Menlo,'DejaVu Sans Mono',consolas,'Courier New',monospace\">┏━━━━━━━━━━━━━━━━━━━━━━━━━━━━━━━━━┳━━━━━━━━━━━━━━━━━━━━━━━━┳━━━━━━━━━━━━━━━┓\n",
       "┃<span style=\"font-weight: bold\"> Layer (type)                    </span>┃<span style=\"font-weight: bold\"> Output Shape           </span>┃<span style=\"font-weight: bold\">       Param # </span>┃\n",
       "┡━━━━━━━━━━━━━━━━━━━━━━━━━━━━━━━━━╇━━━━━━━━━━━━━━━━━━━━━━━━╇━━━━━━━━━━━━━━━┩\n",
       "│ input_layer_6 (<span style=\"color: #0087ff; text-decoration-color: #0087ff\">InputLayer</span>)      │ (<span style=\"color: #00d7ff; text-decoration-color: #00d7ff\">None</span>, <span style=\"color: #00af00; text-decoration-color: #00af00\">5113</span>)           │             <span style=\"color: #00af00; text-decoration-color: #00af00\">0</span> │\n",
       "├─────────────────────────────────┼────────────────────────┼───────────────┤\n",
       "│ dense_12 (<span style=\"color: #0087ff; text-decoration-color: #0087ff\">Dense</span>)                │ (<span style=\"color: #00d7ff; text-decoration-color: #00d7ff\">None</span>, <span style=\"color: #00af00; text-decoration-color: #00af00\">64</span>)             │       <span style=\"color: #00af00; text-decoration-color: #00af00\">327,296</span> │\n",
       "├─────────────────────────────────┼────────────────────────┼───────────────┤\n",
       "│ dense_13 (<span style=\"color: #0087ff; text-decoration-color: #0087ff\">Dense</span>)                │ (<span style=\"color: #00d7ff; text-decoration-color: #00d7ff\">None</span>, <span style=\"color: #00af00; text-decoration-color: #00af00\">5113</span>)           │       <span style=\"color: #00af00; text-decoration-color: #00af00\">332,345</span> │\n",
       "└─────────────────────────────────┴────────────────────────┴───────────────┘\n",
       "</pre>\n"
      ],
      "text/plain": [
       "┏━━━━━━━━━━━━━━━━━━━━━━━━━━━━━━━━━┳━━━━━━━━━━━━━━━━━━━━━━━━┳━━━━━━━━━━━━━━━┓\n",
       "┃\u001b[1m \u001b[0m\u001b[1mLayer (type)                   \u001b[0m\u001b[1m \u001b[0m┃\u001b[1m \u001b[0m\u001b[1mOutput Shape          \u001b[0m\u001b[1m \u001b[0m┃\u001b[1m \u001b[0m\u001b[1m      Param #\u001b[0m\u001b[1m \u001b[0m┃\n",
       "┡━━━━━━━━━━━━━━━━━━━━━━━━━━━━━━━━━╇━━━━━━━━━━━━━━━━━━━━━━━━╇━━━━━━━━━━━━━━━┩\n",
       "│ input_layer_6 (\u001b[38;5;33mInputLayer\u001b[0m)      │ (\u001b[38;5;45mNone\u001b[0m, \u001b[38;5;34m5113\u001b[0m)           │             \u001b[38;5;34m0\u001b[0m │\n",
       "├─────────────────────────────────┼────────────────────────┼───────────────┤\n",
       "│ dense_12 (\u001b[38;5;33mDense\u001b[0m)                │ (\u001b[38;5;45mNone\u001b[0m, \u001b[38;5;34m64\u001b[0m)             │       \u001b[38;5;34m327,296\u001b[0m │\n",
       "├─────────────────────────────────┼────────────────────────┼───────────────┤\n",
       "│ dense_13 (\u001b[38;5;33mDense\u001b[0m)                │ (\u001b[38;5;45mNone\u001b[0m, \u001b[38;5;34m5113\u001b[0m)           │       \u001b[38;5;34m332,345\u001b[0m │\n",
       "└─────────────────────────────────┴────────────────────────┴───────────────┘\n"
      ]
     },
     "metadata": {},
     "output_type": "display_data"
    },
    {
     "data": {
      "text/html": [
       "<pre style=\"white-space:pre;overflow-x:auto;line-height:normal;font-family:Menlo,'DejaVu Sans Mono',consolas,'Courier New',monospace\"><span style=\"font-weight: bold\"> Total params: </span><span style=\"color: #00af00; text-decoration-color: #00af00\">659,641</span> (2.52 MB)\n",
       "</pre>\n"
      ],
      "text/plain": [
       "\u001b[1m Total params: \u001b[0m\u001b[38;5;34m659,641\u001b[0m (2.52 MB)\n"
      ]
     },
     "metadata": {},
     "output_type": "display_data"
    },
    {
     "data": {
      "text/html": [
       "<pre style=\"white-space:pre;overflow-x:auto;line-height:normal;font-family:Menlo,'DejaVu Sans Mono',consolas,'Courier New',monospace\"><span style=\"font-weight: bold\"> Trainable params: </span><span style=\"color: #00af00; text-decoration-color: #00af00\">659,641</span> (2.52 MB)\n",
       "</pre>\n"
      ],
      "text/plain": [
       "\u001b[1m Trainable params: \u001b[0m\u001b[38;5;34m659,641\u001b[0m (2.52 MB)\n"
      ]
     },
     "metadata": {},
     "output_type": "display_data"
    },
    {
     "data": {
      "text/html": [
       "<pre style=\"white-space:pre;overflow-x:auto;line-height:normal;font-family:Menlo,'DejaVu Sans Mono',consolas,'Courier New',monospace\"><span style=\"font-weight: bold\"> Non-trainable params: </span><span style=\"color: #00af00; text-decoration-color: #00af00\">0</span> (0.00 B)\n",
       "</pre>\n"
      ],
      "text/plain": [
       "\u001b[1m Non-trainable params: \u001b[0m\u001b[38;5;34m0\u001b[0m (0.00 B)\n"
      ]
     },
     "metadata": {},
     "output_type": "display_data"
    },
    {
     "name": "stdout",
     "output_type": "stream",
     "text": [
      "Epoch 1/50\n",
      "\u001b[1m12/12\u001b[0m \u001b[32m━━━━━━━━━━━━━━━━━━━━\u001b[0m\u001b[37m\u001b[0m \u001b[1m1s\u001b[0m 23ms/step - loss: 0.2473 - mae: 0.4965 - val_loss: 0.2343 - val_mae: 0.4831\n",
      "Epoch 2/50\n",
      "\u001b[1m12/12\u001b[0m \u001b[32m━━━━━━━━━━━━━━━━━━━━\u001b[0m\u001b[37m\u001b[0m \u001b[1m0s\u001b[0m 15ms/step - loss: 0.2219 - mae: 0.4685 - val_loss: 0.1772 - val_mae: 0.4095\n",
      "Epoch 3/50\n",
      "\u001b[1m12/12\u001b[0m \u001b[32m━━━━━━━━━━━━━━━━━━━━\u001b[0m\u001b[37m\u001b[0m \u001b[1m0s\u001b[0m 15ms/step - loss: 0.1602 - mae: 0.3843 - val_loss: 0.1131 - val_mae: 0.3084\n",
      "Epoch 4/50\n",
      "\u001b[1m12/12\u001b[0m \u001b[32m━━━━━━━━━━━━━━━━━━━━\u001b[0m\u001b[37m\u001b[0m \u001b[1m0s\u001b[0m 15ms/step - loss: 0.0981 - mae: 0.2801 - val_loss: 0.0665 - val_mae: 0.2213\n",
      "Epoch 5/50\n",
      "\u001b[1m12/12\u001b[0m \u001b[32m━━━━━━━━━━━━━━━━━━━━\u001b[0m\u001b[37m\u001b[0m \u001b[1m0s\u001b[0m 14ms/step - loss: 0.0591 - mae: 0.2044 - val_loss: 0.0392 - val_mae: 0.1590\n",
      "Epoch 6/50\n",
      "\u001b[1m12/12\u001b[0m \u001b[32m━━━━━━━━━━━━━━━━━━━━\u001b[0m\u001b[37m\u001b[0m \u001b[1m0s\u001b[0m 16ms/step - loss: 0.0331 - mae: 0.1414 - val_loss: 0.0249 - val_mae: 0.1193\n",
      "Epoch 7/50\n",
      "\u001b[1m12/12\u001b[0m \u001b[32m━━━━━━━━━━━━━━━━━━━━\u001b[0m\u001b[37m\u001b[0m \u001b[1m0s\u001b[0m 15ms/step - loss: 0.0219 - mae: 0.1077 - val_loss: 0.0175 - val_mae: 0.0942\n",
      "Epoch 8/50\n",
      "\u001b[1m12/12\u001b[0m \u001b[32m━━━━━━━━━━━━━━━━━━━━\u001b[0m\u001b[37m\u001b[0m \u001b[1m0s\u001b[0m 14ms/step - loss: 0.0158 - mae: 0.0871 - val_loss: 0.0133 - val_mae: 0.0778\n",
      "Epoch 9/50\n",
      "\u001b[1m12/12\u001b[0m \u001b[32m━━━━━━━━━━━━━━━━━━━━\u001b[0m\u001b[37m\u001b[0m \u001b[1m0s\u001b[0m 14ms/step - loss: 0.0120 - mae: 0.0712 - val_loss: 0.0108 - val_mae: 0.0668\n",
      "Epoch 10/50\n",
      "\u001b[1m12/12\u001b[0m \u001b[32m━━━━━━━━━━━━━━━━━━━━\u001b[0m\u001b[37m\u001b[0m \u001b[1m0s\u001b[0m 14ms/step - loss: 0.0100 - mae: 0.0622 - val_loss: 0.0092 - val_mae: 0.0588\n",
      "Epoch 11/50\n",
      "\u001b[1m12/12\u001b[0m \u001b[32m━━━━━━━━━━━━━━━━━━━━\u001b[0m\u001b[37m\u001b[0m \u001b[1m0s\u001b[0m 17ms/step - loss: 0.0083 - mae: 0.0533 - val_loss: 0.0081 - val_mae: 0.0528\n",
      "Epoch 12/50\n",
      "\u001b[1m12/12\u001b[0m \u001b[32m━━━━━━━━━━━━━━━━━━━━\u001b[0m\u001b[37m\u001b[0m \u001b[1m0s\u001b[0m 14ms/step - loss: 0.0075 - mae: 0.0480 - val_loss: 0.0073 - val_mae: 0.0481\n",
      "Epoch 13/50\n",
      "\u001b[1m12/12\u001b[0m \u001b[32m━━━━━━━━━━━━━━━━━━━━\u001b[0m\u001b[37m\u001b[0m \u001b[1m0s\u001b[0m 16ms/step - loss: 0.0068 - mae: 0.0444 - val_loss: 0.0067 - val_mae: 0.0443\n",
      "Epoch 14/50\n",
      "\u001b[1m12/12\u001b[0m \u001b[32m━━━━━━━━━━━━━━━━━━━━\u001b[0m\u001b[37m\u001b[0m \u001b[1m0s\u001b[0m 19ms/step - loss: 0.0060 - mae: 0.0399 - val_loss: 0.0062 - val_mae: 0.0411\n",
      "Epoch 15/50\n",
      "\u001b[1m12/12\u001b[0m \u001b[32m━━━━━━━━━━━━━━━━━━━━\u001b[0m\u001b[37m\u001b[0m \u001b[1m0s\u001b[0m 17ms/step - loss: 0.0060 - mae: 0.0379 - val_loss: 0.0059 - val_mae: 0.0384\n",
      "Epoch 16/50\n",
      "\u001b[1m12/12\u001b[0m \u001b[32m━━━━━━━━━━━━━━━━━━━━\u001b[0m\u001b[37m\u001b[0m \u001b[1m0s\u001b[0m 18ms/step - loss: 0.0056 - mae: 0.0359 - val_loss: 0.0055 - val_mae: 0.0361\n",
      "Epoch 17/50\n",
      "\u001b[1m12/12\u001b[0m \u001b[32m━━━━━━━━━━━━━━━━━━━━\u001b[0m\u001b[37m\u001b[0m \u001b[1m0s\u001b[0m 15ms/step - loss: 0.0053 - mae: 0.0332 - val_loss: 0.0053 - val_mae: 0.0342\n",
      "Epoch 18/50\n",
      "\u001b[1m12/12\u001b[0m \u001b[32m━━━━━━━━━━━━━━━━━━━━\u001b[0m\u001b[37m\u001b[0m \u001b[1m0s\u001b[0m 15ms/step - loss: 0.0051 - mae: 0.0309 - val_loss: 0.0051 - val_mae: 0.0324\n",
      "Epoch 19/50\n",
      "\u001b[1m12/12\u001b[0m \u001b[32m━━━━━━━━━━━━━━━━━━━━\u001b[0m\u001b[37m\u001b[0m \u001b[1m0s\u001b[0m 15ms/step - loss: 0.0047 - mae: 0.0294 - val_loss: 0.0049 - val_mae: 0.0309\n",
      "Epoch 20/50\n",
      "\u001b[1m12/12\u001b[0m \u001b[32m━━━━━━━━━━━━━━━━━━━━\u001b[0m\u001b[37m\u001b[0m \u001b[1m0s\u001b[0m 15ms/step - loss: 0.0047 - mae: 0.0272 - val_loss: 0.0048 - val_mae: 0.0295\n",
      "Epoch 21/50\n",
      "\u001b[1m12/12\u001b[0m \u001b[32m━━━━━━━━━━━━━━━━━━━━\u001b[0m\u001b[37m\u001b[0m \u001b[1m0s\u001b[0m 14ms/step - loss: 0.0046 - mae: 0.0268 - val_loss: 0.0046 - val_mae: 0.0283\n",
      "Epoch 22/50\n",
      "\u001b[1m12/12\u001b[0m \u001b[32m━━━━━━━━━━━━━━━━━━━━\u001b[0m\u001b[37m\u001b[0m \u001b[1m0s\u001b[0m 14ms/step - loss: 0.0044 - mae: 0.0258 - val_loss: 0.0045 - val_mae: 0.0272\n",
      "Epoch 23/50\n",
      "\u001b[1m12/12\u001b[0m \u001b[32m━━━━━━━━━━━━━━━━━━━━\u001b[0m\u001b[37m\u001b[0m \u001b[1m0s\u001b[0m 13ms/step - loss: 0.0044 - mae: 0.0245 - val_loss: 0.0044 - val_mae: 0.0262\n",
      "Epoch 24/50\n",
      "\u001b[1m12/12\u001b[0m \u001b[32m━━━━━━━━━━━━━━━━━━━━\u001b[0m\u001b[37m\u001b[0m \u001b[1m0s\u001b[0m 13ms/step - loss: 0.0043 - mae: 0.0237 - val_loss: 0.0043 - val_mae: 0.0253\n",
      "Epoch 25/50\n",
      "\u001b[1m12/12\u001b[0m \u001b[32m━━━━━━━━━━━━━━━━━━━━\u001b[0m\u001b[37m\u001b[0m \u001b[1m0s\u001b[0m 13ms/step - loss: 0.0041 - mae: 0.0235 - val_loss: 0.0042 - val_mae: 0.0245\n",
      "Epoch 26/50\n",
      "\u001b[1m12/12\u001b[0m \u001b[32m━━━━━━━━━━━━━━━━━━━━\u001b[0m\u001b[37m\u001b[0m \u001b[1m0s\u001b[0m 13ms/step - loss: 0.0041 - mae: 0.0219 - val_loss: 0.0042 - val_mae: 0.0237\n",
      "Epoch 27/50\n",
      "\u001b[1m12/12\u001b[0m \u001b[32m━━━━━━━━━━━━━━━━━━━━\u001b[0m\u001b[37m\u001b[0m \u001b[1m0s\u001b[0m 13ms/step - loss: 0.0041 - mae: 0.0211 - val_loss: 0.0041 - val_mae: 0.0230\n",
      "Epoch 28/50\n",
      "\u001b[1m12/12\u001b[0m \u001b[32m━━━━━━━━━━━━━━━━━━━━\u001b[0m\u001b[37m\u001b[0m \u001b[1m0s\u001b[0m 15ms/step - loss: 0.0040 - mae: 0.0206 - val_loss: 0.0041 - val_mae: 0.0224\n",
      "Epoch 29/50\n",
      "\u001b[1m12/12\u001b[0m \u001b[32m━━━━━━━━━━━━━━━━━━━━\u001b[0m\u001b[37m\u001b[0m \u001b[1m0s\u001b[0m 14ms/step - loss: 0.0040 - mae: 0.0201 - val_loss: 0.0040 - val_mae: 0.0218\n",
      "Epoch 30/50\n",
      "\u001b[1m12/12\u001b[0m \u001b[32m━━━━━━━━━━━━━━━━━━━━\u001b[0m\u001b[37m\u001b[0m \u001b[1m0s\u001b[0m 14ms/step - loss: 0.0038 - mae: 0.0192 - val_loss: 0.0040 - val_mae: 0.0212\n",
      "Epoch 31/50\n",
      "\u001b[1m12/12\u001b[0m \u001b[32m━━━━━━━━━━━━━━━━━━━━\u001b[0m\u001b[37m\u001b[0m \u001b[1m0s\u001b[0m 14ms/step - loss: 0.0040 - mae: 0.0190 - val_loss: 0.0039 - val_mae: 0.0207\n",
      "Epoch 32/50\n",
      "\u001b[1m12/12\u001b[0m \u001b[32m━━━━━━━━━━━━━━━━━━━━\u001b[0m\u001b[37m\u001b[0m \u001b[1m0s\u001b[0m 14ms/step - loss: 0.0038 - mae: 0.0183 - val_loss: 0.0039 - val_mae: 0.0202\n",
      "Epoch 33/50\n",
      "\u001b[1m12/12\u001b[0m \u001b[32m━━━━━━━━━━━━━━━━━━━━\u001b[0m\u001b[37m\u001b[0m \u001b[1m0s\u001b[0m 14ms/step - loss: 0.0039 - mae: 0.0182 - val_loss: 0.0038 - val_mae: 0.0197\n",
      "Epoch 34/50\n",
      "\u001b[1m12/12\u001b[0m \u001b[32m━━━━━━━━━━━━━━━━━━━━\u001b[0m\u001b[37m\u001b[0m \u001b[1m0s\u001b[0m 13ms/step - loss: 0.0036 - mae: 0.0172 - val_loss: 0.0038 - val_mae: 0.0193\n",
      "Epoch 35/50\n",
      "\u001b[1m12/12\u001b[0m \u001b[32m━━━━━━━━━━━━━━━━━━━━\u001b[0m\u001b[37m\u001b[0m \u001b[1m0s\u001b[0m 15ms/step - loss: 0.0038 - mae: 0.0169 - val_loss: 0.0038 - val_mae: 0.0189\n",
      "Epoch 36/50\n",
      "\u001b[1m12/12\u001b[0m \u001b[32m━━━━━━━━━━━━━━━━━━━━\u001b[0m\u001b[37m\u001b[0m \u001b[1m0s\u001b[0m 13ms/step - loss: 0.0037 - mae: 0.0168 - val_loss: 0.0037 - val_mae: 0.0185\n",
      "Epoch 37/50\n",
      "\u001b[1m12/12\u001b[0m \u001b[32m━━━━━━━━━━━━━━━━━━━━\u001b[0m\u001b[37m\u001b[0m \u001b[1m0s\u001b[0m 19ms/step - loss: 0.0037 - mae: 0.0165 - val_loss: 0.0037 - val_mae: 0.0181\n",
      "Epoch 38/50\n",
      "\u001b[1m12/12\u001b[0m \u001b[32m━━━━━━━━━━━━━━━━━━━━\u001b[0m\u001b[37m\u001b[0m \u001b[1m0s\u001b[0m 14ms/step - loss: 0.0037 - mae: 0.0163 - val_loss: 0.0037 - val_mae: 0.0178\n",
      "Epoch 39/50\n",
      "\u001b[1m12/12\u001b[0m \u001b[32m━━━━━━━━━━━━━━━━━━━━\u001b[0m\u001b[37m\u001b[0m \u001b[1m0s\u001b[0m 14ms/step - loss: 0.0037 - mae: 0.0158 - val_loss: 0.0037 - val_mae: 0.0175\n",
      "Epoch 40/50\n",
      "\u001b[1m12/12\u001b[0m \u001b[32m━━━━━━━━━━━━━━━━━━━━\u001b[0m\u001b[37m\u001b[0m \u001b[1m0s\u001b[0m 13ms/step - loss: 0.0034 - mae: 0.0154 - val_loss: 0.0037 - val_mae: 0.0172\n",
      "Epoch 41/50\n",
      "\u001b[1m12/12\u001b[0m \u001b[32m━━━━━━━━━━━━━━━━━━━━\u001b[0m\u001b[37m\u001b[0m \u001b[1m0s\u001b[0m 14ms/step - loss: 0.0036 - mae: 0.0153 - val_loss: 0.0036 - val_mae: 0.0169\n",
      "Epoch 42/50\n",
      "\u001b[1m12/12\u001b[0m \u001b[32m━━━━━━━━━━━━━━━━━━━━\u001b[0m\u001b[37m\u001b[0m \u001b[1m0s\u001b[0m 13ms/step - loss: 0.0036 - mae: 0.0149 - val_loss: 0.0036 - val_mae: 0.0166\n",
      "Epoch 43/50\n",
      "\u001b[1m12/12\u001b[0m \u001b[32m━━━━━━━━━━━━━━━━━━━━\u001b[0m\u001b[37m\u001b[0m \u001b[1m0s\u001b[0m 13ms/step - loss: 0.0035 - mae: 0.0145 - val_loss: 0.0036 - val_mae: 0.0163\n",
      "Epoch 44/50\n",
      "\u001b[1m12/12\u001b[0m \u001b[32m━━━━━━━━━━━━━━━━━━━━\u001b[0m\u001b[37m\u001b[0m \u001b[1m0s\u001b[0m 13ms/step - loss: 0.0037 - mae: 0.0147 - val_loss: 0.0036 - val_mae: 0.0161\n",
      "Epoch 45/50\n",
      "\u001b[1m12/12\u001b[0m \u001b[32m━━━━━━━━━━━━━━━━━━━━\u001b[0m\u001b[37m\u001b[0m \u001b[1m0s\u001b[0m 13ms/step - loss: 0.0036 - mae: 0.0140 - val_loss: 0.0036 - val_mae: 0.0158\n",
      "Epoch 46/50\n",
      "\u001b[1m12/12\u001b[0m \u001b[32m━━━━━━━━━━━━━━━━━━━━\u001b[0m\u001b[37m\u001b[0m \u001b[1m0s\u001b[0m 15ms/step - loss: 0.0034 - mae: 0.0138 - val_loss: 0.0036 - val_mae: 0.0156\n",
      "Epoch 47/50\n",
      "\u001b[1m12/12\u001b[0m \u001b[32m━━━━━━━━━━━━━━━━━━━━\u001b[0m\u001b[37m\u001b[0m \u001b[1m0s\u001b[0m 14ms/step - loss: 0.0035 - mae: 0.0139 - val_loss: 0.0035 - val_mae: 0.0154\n",
      "Epoch 48/50\n",
      "\u001b[1m12/12\u001b[0m \u001b[32m━━━━━━━━━━━━━━━━━━━━\u001b[0m\u001b[37m\u001b[0m \u001b[1m0s\u001b[0m 14ms/step - loss: 0.0035 - mae: 0.0137 - val_loss: 0.0035 - val_mae: 0.0151\n",
      "Epoch 49/50\n",
      "\u001b[1m12/12\u001b[0m \u001b[32m━━━━━━━━━━━━━━━━━━━━\u001b[0m\u001b[37m\u001b[0m \u001b[1m0s\u001b[0m 15ms/step - loss: 0.0035 - mae: 0.0134 - val_loss: 0.0035 - val_mae: 0.0149\n",
      "Epoch 50/50\n",
      "\u001b[1m12/12\u001b[0m \u001b[32m━━━━━━━━━━━━━━━━━━━━\u001b[0m\u001b[37m\u001b[0m \u001b[1m0s\u001b[0m 14ms/step - loss: 0.0036 - mae: 0.0131 - val_loss: 0.0035 - val_mae: 0.0147\n",
      "Perda de Validação (MSE) final: 0.003504\n",
      "Erro Absoluto Médio de Validação (MAE) final: 0.014745\n"
     ]
    }
   ],
   "source": [
    "# Importar bibliotecas para construção do modelo\n",
    "import tensorflow as tf\n",
    "from tensorflow.keras.layers import Input, Dense\n",
    "from tensorflow.keras.models import Model\n",
    "from tensorflow.keras.callbacks import EarlyStopping\n",
    "\n",
    "# Construir o modelo de autoencoder\n",
    "input_layer = Input(shape=(input_dim,))\n",
    "encoder = Dense(encoding_dim, activation='relu')(input_layer)\n",
    "decoder = Dense(input_dim, activation='sigmoid')(encoder)\n",
    "\n",
    "# Criar o modelo de autoencoder\n",
    "autoencoder = Model(inputs=input_layer, outputs=decoder)\n",
    "\n",
    "# Gerar embeddings de usuários a partir do autoencoder\n",
    "user_embeddings = autoencoder.predict(dense_matrix)\n",
    "print(f\"Embeddings extraídos. Forma: {user_embeddings.shape}\")\n",
    "\n",
    "# Exibir o resumo do modelo\n",
    "autoencoder.summary()\n",
    "\n",
    "# Compilar o modelo com otimizador e métricas\n",
    "autoencoder.compile(optimizer='adam', loss='mean_squared_error', metrics=['mae'])\n",
    "\n",
    "# Configurar o callback de EarlyStopping para interromper o treinamento se não houver melhora\n",
    "early_stopping = EarlyStopping(monitor='val_loss', patience=5, restore_best_weights=True)\n",
    "\n",
    "# Treinar o modelo de autoencoder\n",
    "history = autoencoder.fit(X_train, X_train, epochs=50, batch_size=256, shuffle=True, validation_data=(x_val, x_val), callbacks=[early_stopping], verbose=1)\n",
    "\n",
    "# Avaliar o modelo no conjunto de validação\n",
    "val_loss, val_mae = autoencoder.evaluate(x_val, x_val, verbose=0)\n",
    "print(f\"Perda de Validação (MSE) final: {val_loss:.6f}\")\n",
    "print(f\"Erro Absoluto Médio de Validação (MAE) final: {val_mae:.6f}\")"
   ]
  },
  {
   "cell_type": "code",
   "execution_count": null,
   "id": "7e418aaa",
   "metadata": {},
   "outputs": [
    {
     "data": {
      "image/png": "[encoded data removed]",
      "text/plain": [
       "<Figure size 1400x600 with 2 Axes>"
      ]
     },
     "metadata": {},
     "output_type": "display_data"
    }
   ],
   "source": [
    "# Verificar se o histórico de treinamento está disponível\n",
    "if history and history.history:\n",
    "    plt.figure(figsize=(14, 6))\n",
    "\n",
    "    # Plotar a perda durante o treinamento\n",
    "    plt.subplot(1, 2, 1)\n",
    "    plt.plot(history.history['loss'], label='Perda de Treino (MSE)')\n",
    "    plt.plot(history.history['val_loss'], label='Perda de Validação (MSE)')\n",
    "    plt.title('Histórico de Perda (MSE) Durante o Treinamento')\n",
    "    plt.xlabel('Época')\n",
    "    plt.ylabel('Perda (MSE)')\n",
    "    plt.legend()\n",
    "    plt.grid(True)\n",
    "\n",
    "    # Plotar o MAE durante o treinamento\n",
    "    plt.subplot(1, 2, 2)\n",
    "    plt.plot(history.history['mae'], label='MAE de Treino')\n",
    "    plt.plot(history.history['val_mae'], label='MAE de Validação')\n",
    "    plt.title('Histórico de Erro Absoluto Médio (MAE)')\n",
    "    plt.xlabel('Época')\n",
    "    plt.ylabel('MAE')\n",
    "    plt.legend()\n",
    "    plt.grid(True)\n",
    "\n",
    "    plt.tight_layout()\n",
    "    plt.show()\n",
    "else:\n",
    "    print(\"Histórico de treinamento não disponível para plotagem.\")"
   ]
  },
  {
   "cell_type": "code",
   "execution_count": null,
   "id": "943f3b4b",
   "metadata": {},
   "outputs": [
    {
     "name": "stdout",
     "output_type": "stream",
     "text": [
      "Matriz de similaridade criada. Forma: (3757, 3757)\n"
     ]
    }
   ],
   "source": [
    "# Calcular a similaridade entre os usuários com base nos embeddings\n",
    "from sklearn.metrics.pairwise import cosine_similarity\n",
    "\n",
    "# Calcular a similaridade entre os usuários\n",
    "user_similarity = cosine_similarity(user_embeddings)\n",
    "print(f\"Matriz de similaridade criada. Forma: {user_similarity.shape}\")"
   ]
  },
  {
   "cell_type": "code",
   "execution_count": null,
   "id": "77735086",
   "metadata": {},
   "outputs": [],
   "source": [
    "# Definir a função para gerar recomendações híbridas\n",
    "import numpy as np\n",
    "\n",
    "def hybrid_recommend(user_idx, content_ids, top_k=10, autoencoder_weight=0.6):\n",
    "    \"\"\"\n",
    "    Gera recomendações híbridas combinando reconstrução do autoencoder e similaridade entre usuários.\n",
    "    \n",
    "    Args:\n",
    "        user_idx: Índice do usuário na matriz\n",
    "        content_ids: IDs dos conteúdos correspondentes às colunas da matriz\n",
    "        top_k: Número de recomendações a serem retornadas\n",
    "        autoencoder_weight: Peso atribuído às previsões do autoencoder (entre 0 e 1)\n",
    "        \n",
    "    Returns:\n",
    "        Lista de IDs de conteúdo recomendados\n",
    "    \"\"\"\n",
    "    # Parte 1: Recomendação baseada no autoencoder\n",
    "    user_vector = dense_matrix[user_idx].reshape(1, -1)\n",
    "    predicted_ratings = autoencoder.predict(user_vector, verbose=0)[0]\n",
    "    \n",
    "    # Parte 2: Recomendação baseada em usuários similares\n",
    "    similar_users = np.argsort(user_similarity[user_idx])[::-1][1:6]  # Top 5 usuários similares\n",
    "    similar_users_ratings = np.mean(dense_matrix[similar_users], axis=0)\n",
    "    \n",
    "    # Combinar as duas abordagens\n",
    "    hybrid_scores = autoencoder_weight * predicted_ratings + (1 - autoencoder_weight) * similar_users_ratings\n",
    "    \n",
    "    # Excluir itens já consumidos\n",
    "    consumed_items = np.where(dense_matrix[user_idx] > 0)[0]\n",
    "    hybrid_scores[consumed_items] = -1\n",
    "    \n",
    "    # Obter os top-k itens recomendados\n",
    "    top_k_items_idx = np.argsort(hybrid_scores)[::-1][:top_k]\n",
    "    recommended_content_ids = [content_ids[idx] for idx in top_k_items_idx]\n",
    "    \n",
    "    return recommended_content_ids"
   ]
  },
  {
   "cell_type": "code",
   "execution_count": null,
   "id": "c1edbfa3",
   "metadata": {},
   "outputs": [],
   "source": [
    "# Definir a função para exibir recomendações para um usuário específico\n",
    "def show_recommendations(user_id, top_k=5):\n",
    "    # Obter o índice do usuário na matriz\n",
    "    try:\n",
    "        user_idx = user_item_matrix.index.get_loc(user_id)\n",
    "    except KeyError:\n",
    "        print(f\"Usuário {user_id} não encontrado no conjunto de dados.\")\n",
    "        return\n",
    "\n",
    "    # Obter recomendações\n",
    "    recommended_content_ids = hybrid_recommend(user_idx, user_item_matrix.columns.tolist(), top_k)\n",
    "\n",
    "    # Exibir as recomendações\n",
    "    print(f\"\\nRecomendações para o usuário {user_id}:\")\n",
    "    for i, content_id in enumerate(recommended_content_ids):\n",
    "        game_name = content_id_to_game.get(content_id, \"Nome não disponível\")\n",
    "        print(f\"{i+1}. Jogo: {game_name} (ID: {content_id})\")"
   ]
  },
  {
   "cell_type": "code",
   "execution_count": null,
   "id": "9e696c62",
   "metadata": {},
   "outputs": [],
   "source": [
    "# Criar um dicionário para mapear content_id para o nome do jogo\n",
    "content_id_to_game = df[['content_id', 'game']].drop_duplicates().set_index('content_id')['game'].to_dict()"
   ]
  },
  {
   "cell_type": "code",
   "execution_count": null,
   "id": "cdc20d58",
   "metadata": {},
   "outputs": [
    {
     "name": "stdout",
     "output_type": "stream",
     "text": [
      "\n",
      "Recomendações para o usuário 0:\n",
      "1. Jogo: Counter-Strike Global Offensive (ID: 975)\n",
      "2. Jogo: Unturned (ID: 4750)\n",
      "3. Jogo: Warframe (ID: 4861)\n",
      "4. Jogo: Counter-Strike Condition Zero (ID: 973)\n",
      "5. Jogo: Counter-Strike Condition Zero Deleted Scenes (ID: 974)\n",
      "\n",
      "Recomendações para o usuário 1:\n",
      "1. Jogo: Team Fortress 2 (ID: 4221)\n",
      "2. Jogo: Dota 2 (ID: 1328)\n",
      "3. Jogo: Robocraft (ID: 3532)\n",
      "4. Jogo: Heroes & Generals (ID: 2127)\n",
      "5. Jogo: FlatOut 2 (ID: 1733)\n",
      "\n",
      "Recomendações para o usuário 2:\n",
      "1. Jogo: Team Fortress 2 (ID: 4221)\n",
      "2. Jogo: Dota 2 (ID: 1328)\n",
      "3. Jogo: Counter-Strike Global Offensive (ID: 975)\n",
      "4. Jogo: Batman Arkham Asylum GOTY Edition (ID: 450)\n",
      "5. Jogo: Battlefield Bad Company 2 (ID: 477)\n",
      "\n",
      "Recomendações para o usuário 3:\n",
      "1. Jogo: Counter-Strike Global Offensive (ID: 975)\n",
      "2. Jogo: Team Fortress 2 (ID: 4221)\n",
      "3. Jogo: Dota 2 (ID: 1328)\n",
      "4. Jogo: Unturned (ID: 4750)\n",
      "5. Jogo: Counter-Strike Source (ID: 978)\n",
      "\n",
      "Recomendações para o usuário 4:\n",
      "1. Jogo: Counter-Strike Global Offensive (ID: 975)\n",
      "2. Jogo: Team Fortress 2 (ID: 4221)\n",
      "3. Jogo: Dota 2 (ID: 1328)\n",
      "4. Jogo: Unturned (ID: 4750)\n",
      "5. Jogo: Counter-Strike Source (ID: 978)\n"
     ]
    }
   ],
   "source": [
    "# Testar o sistema de recomendações para os primeiros 5 usuários\n",
    "for user_id in user_item_matrix.index[:5]:\n",
    "    show_recommendations(user_id)"
   ]
  }
 ],
 "metadata": {
  "kernelspec": {
   "display_name": "venv",
   "language": "python",
   "name": "python3"
  },
  "language_info": {
   "codemirror_mode": {
    "name": "ipython",
    "version": 3
   },
   "file_extension": ".py",
   "mimetype": "text/x-python",
   "name": "python",
   "nbconvert_exporter": "python",
   "pygments_lexer": "ipython3",
   "version": "3.12.3"
  }
 },
 "nbformat": 4,
 "nbformat_minor": 5
}
